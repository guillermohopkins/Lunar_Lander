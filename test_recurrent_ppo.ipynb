{
  "cells": [
    {
      "cell_type": "code",
      "execution_count": 3,
      "metadata": {
        "id": "j_O6JkrlGDhd"
      },
      "outputs": [],
      "source": [
        "hp = None\n",
        "ENV = None\n",
        "ENV_MASK_VELOCITY = None"
      ]
    },
    {
      "cell_type": "code",
      "execution_count": 4,
      "metadata": {
        "colab": {
          "base_uri": "https://localhost:8080/"
        },
        "id": "aJ1KsRpzuno1",
        "outputId": "92757b86-1461-480f-e09e-8f588371a503"
      },
      "outputs": [
        {
          "output_type": "stream",
          "name": "stdout",
          "text": [
            "Mounted at /google_drive\n"
          ]
        }
      ],
      "source": [
        "from google.colab import drive\n",
        "drive.mount(\"/google_drive\")\n",
        "WORKSPACE_PATH = \"/google_drive/My Drive/workspace\""
      ]
    },
    {
      "cell_type": "code",
      "execution_count": 5,
      "metadata": {
        "colab": {
          "base_uri": "https://localhost:8080/"
        },
        "id": "3ECthISLuyDB",
        "outputId": "d28ea99a-4950-4d47-ef54-e11148dd291d"
      },
      "outputs": [
        {
          "output_type": "stream",
          "name": "stdout",
          "text": [
            "\u001b[31mERROR: pip's dependency resolver does not currently take into account all the packages that are installed. This behaviour is the source of the following dependency conflicts.\n",
            "tensorflow-probability 0.16.0 requires cloudpickle>=1.3, but you have cloudpickle 1.2.2 which is incompatible.\u001b[0m\n"
          ]
        }
      ],
      "source": [
        "!pip install -q gym[box2d]==0.15.4 dotmap line_profiler > /dev/null\n",
        "!apt-get install -qq python-opengl xvfb x11-utils > /dev/null\n",
        "!pip install -q pyvirtualdisplay piglet > /dev/null"
      ]
    },
    {
      "cell_type": "code",
      "execution_count": 6,
      "metadata": {
        "colab": {
          "base_uri": "https://localhost:8080/"
        },
        "id": "ZcrsWu4ggasL",
        "outputId": "c1adfdff-31be-46a9-ce36-d6ef816ca4f8"
      },
      "outputs": [
        {
          "output_type": "execute_result",
          "data": {
            "text/plain": [
              "<pyvirtualdisplay.display.Display at 0x7fde379ab850>"
            ]
          },
          "metadata": {},
          "execution_count": 6
        }
      ],
      "source": [
        "from pyvirtualdisplay import Display\n",
        "display = Display(visible=0, size=(400, 300))\n",
        "display.start()"
      ]
    },
    {
      "cell_type": "code",
      "execution_count": 7,
      "metadata": {
        "id": "-_7Q0xiLu1gI"
      },
      "outputs": [],
      "source": [
        "import torch\n",
        "from torch import nn\n",
        "from torch import distributions\n",
        "import gym\n",
        "import copy\n",
        "from torch.utils.tensorboard import SummaryWriter\n",
        "from torch import optim\n",
        "import numpy as np\n",
        "from itertools import count\n",
        "import torch.nn.functional as F\n",
        "import re\n",
        "import copy\n",
        "import time\n",
        "import math\n",
        "import pathlib\n",
        "import time\n",
        "import pickle\n",
        "import os\n",
        "from dataclasses import dataclass\n",
        "import gc\n",
        "from dotmap import DotMap\n",
        "from base64 import b64encode\n",
        "from IPython.display import HTML\n",
        "\n",
        "# Select version 2 of tensorflow to avoid warnings.\n",
        "%tensorflow_version 2.x"
      ]
    },
    {
      "cell_type": "code",
      "execution_count": 8,
      "metadata": {
        "id": "gcQhgIG5YJKO"
      },
      "outputs": [],
      "source": [
        "class Actor(nn.Module):\n",
        "    def __init__(self, state_dim, action_dim, continuous_action_space, trainable_std_dev, init_log_std_dev=None):\n",
        "        super().__init__()\n",
        "        self.lstm = nn.LSTM(state_dim, hp.hidden_size, num_layers=hp.recurrent_layers)\n",
        "        self.layer_hidden = nn.Linear(hp.hidden_size, hp.hidden_size)\n",
        "        self.layer_policy_logits = nn.Linear(hp.hidden_size, action_dim)\n",
        "        self.action_dim = action_dim\n",
        "        self.continuous_action_space = continuous_action_space \n",
        "        self.log_std_dev = nn.Parameter(init_log_std_dev * torch.ones((action_dim), dtype=torch.float), requires_grad=trainable_std_dev)\n",
        "        self.covariance_eye = torch.eye(self.action_dim).unsqueeze(0)\n",
        "        self.hidden_cell = None\n",
        "        \n",
        "    def get_init_state(self, batch_size, device):\n",
        "        self.hidden_cell = (torch.zeros(hp.recurrent_layers, batch_size, hp.hidden_size).to(device),\n",
        "                            torch.zeros(hp.recurrent_layers, batch_size,hp.hidden_size).to(device))\n",
        "        \n",
        "    def forward(self, state, terminal=None):\n",
        "        batch_size = state.shape[1]\n",
        "        device = state.device\n",
        "        if self.hidden_cell is None or batch_size != self.hidden_cell[0].shape[1]:\n",
        "            self.get_init_state(batch_size, device)\n",
        "        if terminal is not None:\n",
        "            self.hidden_cell = [value * (1. - terminal).reshape(1, batch_size, 1) for value in self.hidden_cell]\n",
        "        _, self.hidden_cell = self.lstm(state, self.hidden_cell)\n",
        "        hidden_out = F.elu(self.layer_hidden(self.hidden_cell[0][-1]))\n",
        "        policy_logits_out = self.layer_policy_logits(hidden_out)\n",
        "        if self.continuous_action_space:\n",
        "            cov_matrix = self.covariance_eye.to(device).expand(batch_size, self.action_dim, self.action_dim) * torch.exp(self.log_std_dev.to(device))\n",
        "            # We define the distribution on the CPU since otherwise operations fail with CUDA illegal memory access error.\n",
        "            policy_dist = torch.distributions.multivariate_normal.MultivariateNormal(policy_logits_out.to(\"cpu\"), cov_matrix.to(\"cpu\"))\n",
        "        else:\n",
        "            policy_dist = distributions.Categorical(F.softmax(policy_logits_out, dim=1))\n",
        "        return policy_dist\n",
        "    \n",
        "class Critic(nn.Module):\n",
        "    def __init__(self, state_dim):\n",
        "        super().__init__()\n",
        "        self.layer_lstm = nn.LSTM(state_dim, hp.hidden_size, num_layers=hp.recurrent_layers)\n",
        "        self.layer_hidden = nn.Linear(hp.hidden_size, hp.hidden_size)\n",
        "        self.layer_value = nn.Linear(hp.hidden_size, 1)\n",
        "        self.hidden_cell = None\n",
        "        \n",
        "    def get_init_state(self, batch_size, device):\n",
        "        self.hidden_cell = (torch.zeros(hp.recurrent_layers, batch_size, hp.hidden_size).to(device),\n",
        "                            torch.zeros(hp.recurrent_layers, batch_size, hp.hidden_size).to(device))\n",
        "    \n",
        "    def forward(self, state, terminal=None):\n",
        "        batch_size = state.shape[1]\n",
        "        device = state.device\n",
        "        if self.hidden_cell is None or batch_size != self.hidden_cell[0].shape[1]:\n",
        "            self.get_init_state(batch_size, device)\n",
        "        if terminal is not None:\n",
        "            self.hidden_cell = [value * (1. - terminal).reshape(1, batch_size, 1) for value in self.hidden_cell]\n",
        "        _, self.hidden_cell = self.layer_lstm(state, self.hidden_cell)\n",
        "        hidden_out = F.elu(self.layer_hidden(self.hidden_cell[0][-1]))\n",
        "        value_out = self.layer_value(hidden_out)\n",
        "        return value_out"
      ]
    },
    {
      "cell_type": "code",
      "execution_count": 9,
      "metadata": {
        "id": "wCi10xLTvOWP"
      },
      "outputs": [],
      "source": [
        "@dataclass\n",
        "class HyperParameters():\n",
        "    scale_reward:         float\n",
        "    min_reward:           float\n",
        "    hidden_size:          float\n",
        "    batch_size:           int\n",
        "    discount:             float\n",
        "    gae_lambda:           float\n",
        "    ppo_clip:             float\n",
        "    ppo_epochs:           int\n",
        "    max_grad_norm:        float\n",
        "    entropy_factor:       float\n",
        "    actor_learning_rate:  float\n",
        "    critic_learning_rate: float\n",
        "    recurrent_seq_len:    int\n",
        "    recurrent_layers:     int\n",
        "    rollout_steps:        int\n",
        "    parallel_rollouts:    int\n",
        "    patience:             int\n",
        "    # Apply to continous action spaces only \n",
        "    trainable_std_dev:    bool\n",
        "    init_log_std_dev:     float\n",
        "@dataclass\n",
        "class StopConditions():\n",
        "    \"\"\"\n",
        "    Store parameters and variables used to stop training. \n",
        "    \"\"\"\n",
        "    best_reward: float = -1e6\n",
        "    fail_to_improve_count: int = 0\n",
        "    max_iterations: int = 1000000\n",
        "def get_env_space():\n",
        "    \"\"\"\n",
        "    Return obsvervation dimensions, action dimensions and whether or not action space is continuous.\n",
        "    \"\"\"\n",
        "    env = gym.make(ENV)\n",
        "    continuous_action_space = type(env.action_space) is gym.spaces.box.Box\n",
        "    if continuous_action_space:\n",
        "        action_dim =  env.action_space.shape[0]\n",
        "    else:\n",
        "        action_dim = env.action_space.n \n",
        "    obsv_dim= env.observation_space.shape[0] \n",
        "    return obsv_dim, action_dim, continuous_action_space\n",
        "\n",
        "def load_checkpoint(iteration):\n",
        "    \"\"\"\n",
        "    Load from training checkpoint.\n",
        "    \"\"\"\n",
        "    global ENV\n",
        "    global ENV_MASK_VELOCITY\n",
        "    global hp\n",
        "    CHECKPOINT_PATH = BASE_CHECKPOINT_PATH + f\"{iteration}/\"\n",
        "    with open(CHECKPOINT_PATH + \"parameters.pt\", \"rb\") as f:\n",
        "        checkpoint = pickle.load(f)\n",
        "        \n",
        "    ENV = checkpoint.env\n",
        "    ENV_MASK_VELOCITY = checkpoint.env_mask_velocity\n",
        "    hp = checkpoint.hp\n",
        "\n",
        "    actor_state_dict = torch.load(CHECKPOINT_PATH + \"actor.pt\", map_location=torch.device(\"cpu\"))\n",
        "    critic_state_dict = torch.load(CHECKPOINT_PATH + \"critic.pt\", map_location=torch.device(\"cpu\"))\n",
        "    actor_optimizer_state_dict = torch.load(CHECKPOINT_PATH + \"actor_optimizer.pt\", map_location=torch.device(\"cpu\"))\n",
        "    critic_optimizer_state_dict = torch.load(CHECKPOINT_PATH + \"critic_optimizer.pt\", map_location=torch.device(\"cpu\"))\n",
        "    \n",
        "    return (actor_state_dict, critic_state_dict,\n",
        "           actor_optimizer_state_dict, critic_optimizer_state_dict,\n",
        "           checkpoint.stop_conditions)\n",
        "\n",
        "def load_from_checkpoint(max_checkpoint_iteration):\n",
        "    \n",
        "    actor_state_dict, critic_state_dict, actor_optimizer_state_dict, critic_optimizer_state_dict, stop_conditions = load_checkpoint(max_checkpoint_iteration)\n",
        "    \n",
        "    obsv_dim, action_dim, continuous_action_space = get_env_space()\n",
        "    actor = Actor(obsv_dim,\n",
        "                  action_dim,\n",
        "                  continuous_action_space=continuous_action_space,\n",
        "                  trainable_std_dev=hp.trainable_std_dev,\n",
        "                  init_log_std_dev=hp.init_log_std_dev)\n",
        "    critic = Critic(obsv_dim)\n",
        "    \n",
        "    actor_optimizer = optim.AdamW(actor.parameters(), lr=hp.actor_learning_rate)\n",
        "    critic_optimizer = optim.AdamW(critic.parameters(), lr=hp.critic_learning_rate)\n",
        "\n",
        "    actor.load_state_dict(actor_state_dict, strict=True) \n",
        "    critic.load_state_dict(critic_state_dict, strict=True)\n",
        "    actor_optimizer.load_state_dict(actor_optimizer_state_dict)\n",
        "    critic_optimizer.load_state_dict(critic_optimizer_state_dict)\n",
        "\n",
        "    # We have to move manually move optimizer states to TRAIN_DEVICE manually since optimizer doesn't yet have a \"to\" method.\n",
        "    for state in actor_optimizer.state.values():\n",
        "        for k, v in state.items():\n",
        "            if isinstance(v, torch.Tensor):\n",
        "                state[k] = v.to(\"cpu\")\n",
        "\n",
        "    for state in critic_optimizer.state.values():\n",
        "        for k, v in state.items():\n",
        "            if isinstance(v, torch.Tensor):\n",
        "                state[k] = v.to(\"cpu\")\n",
        "\n",
        "    return actor, critic, actor_optimizer, critic_optimizer, max_checkpoint_iteration, stop_conditions\n",
        "\n",
        "\n",
        "def visualise_policy(actor):\n",
        "    \"\"\"\n",
        "    Visualise policy.\n",
        "    \"\"\"\n",
        "    env = gym.make(ENV)\n",
        "    if ENV_MASK_VELOCITY:\n",
        "        env = MaskVelocityWrapper(env)\n",
        "    env = gym.wrappers.Monitor(env, f\"{WORKSPACE_PATH}/videos\", force=True)\n",
        "    observation = env.reset()\n",
        "    done_mask = torch.zeros(1) \n",
        "    done = False\n",
        "    step_idx = 0\n",
        "    actor = actor.to(\"cpu\")\n",
        "    actor.eval()\n",
        "    actor.get_init_state(1, \"cpu\")\n",
        "    total_reward = 0.\n",
        "    print(\"Testing policy...\")\n",
        "    while(not done):\n",
        "        # Choose next action \n",
        "        state = torch.tensor(observation, dtype=torch.float32)\n",
        "        dist = actor(state.reshape([1, 1, -1]), done_mask)\n",
        "        action =  dist.sample().squeeze(0)\n",
        "        #import pdb; pdb.set_trace()\n",
        "        #\n",
        "        \n",
        "        #action =  dist.mean.detach().squeeze(0)\n",
        "        # Apply action\n",
        "        action_np = action.cpu().numpy()\n",
        "        observation, reward, done, info = env.step(action_np)\n",
        "        step_idx += 1\n",
        "        total_reward += reward\n",
        "    print(f\"Steps to done: {step_idx}, Total reward: {total_reward}\")\n",
        "    return env.file_infix\n",
        "\n",
        "class MaskVelocityWrapper(gym.ObservationWrapper):\n",
        "    \"\"\"\n",
        "    Gym environment observation wrapper used to mask velocity terms in\n",
        "    observations. The intention is the make the MDP partially observatiable.\n",
        "    \"\"\"\n",
        "    def __init__(self, env):\n",
        "        super(MaskVelocityWrapper, self).__init__(env)\n",
        "        if ENV == \"CartPole-v1\":\n",
        "            self.mask = np.array([1., 0., 1., 0.])\n",
        "        elif ENV == \"Pendulum-v0\":\n",
        "            self.mask = np.array([1., 1., 0.])\n",
        "        elif ENV == \"LunarLander-v2\":\n",
        "            self.mask = np.array([1., 1., 0., 0., 1., 0., 1., 1,])\n",
        "        elif ENV == \"LunarLanderContinuous-v2\":\n",
        "            self.mask = np.array([1., 1., 0., 0., 1., 0., 1., 1,])\n",
        "        else:\n",
        "            raise NotImplementedError\n",
        "\n",
        "    def observation(self, observation):\n",
        "        return  observation * self.mask"
      ]
    },
    {
      "cell_type": "code",
      "execution_count": 10,
      "metadata": {
        "id": "e3GuxhR-hZA8"
      },
      "outputs": [],
      "source": [
        "EXPERIMENT_NAME = \"experiment-003\"\n",
        "BASE_CHECKPOINT_PATH = f\"{WORKSPACE_PATH}/checkpoints/{EXPERIMENT_NAME}/\""
      ]
    },
    {
      "cell_type": "code",
      "execution_count": 17,
      "metadata": {
        "id": "AvNQ2AeLu_J8"
      },
      "outputs": [],
      "source": [
        "###REPLACE THE NUMBER WITH THE CHECKPOINT ITERATION YOU WANT TO EVALUATE/VISUALIZE\n",
        "actor, critic, actor_optimizer, critic_optimizer, iteration, stop_conditions = load_from_checkpoint(490)\n"
      ]
    },
    {
      "cell_type": "code",
      "execution_count": 18,
      "metadata": {
        "colab": {
          "base_uri": "https://localhost:8080/"
        },
        "id": "YTvP-_Ho-Xn0",
        "outputId": "a7b2b70c-8b20-4942-d488-52175422fcd0"
      },
      "outputs": [
        {
          "output_type": "stream",
          "name": "stdout",
          "text": [
            "Testing policy...\n",
            "Steps to done: 203, Total reward: 264.0322568587684\n"
          ]
        }
      ],
      "source": [
        "file_infix = visualise_policy(actor=actor)"
      ]
    },
    {
      "cell_type": "code",
      "execution_count": 19,
      "metadata": {
        "colab": {
          "base_uri": "https://localhost:8080/",
          "height": 288
        },
        "id": "nGPfXxAtvBxY",
        "outputId": "f5255c31-e6b8-4942-9ac6-e998fac0c28a"
      },
      "outputs": [
        {
          "output_type": "execute_result",
          "data": {
            "text/plain": [
              "<IPython.core.display.HTML object>"
            ],
            "text/html": [
              "\n",
              "<video width=400 controls>\n",
              "      <source src=\"data:video/mp4;base64,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\" type=\"video/mp4\">\n",
              "</video>\n"
            ]
          },
          "metadata": {},
          "execution_count": 19
        }
      ],
      "source": [
        "mp4 = open(f\"{WORKSPACE_PATH}/videos/openaigym.video.{file_infix}.video000000.mp4\",'rb').read()\n",
        "data_url = \"data:video/mp4;base64,\" + b64encode(mp4).decode()\n",
        "HTML(\"\"\"\n",
        "<video width=400 controls>\n",
        "      <source src=\"%s\" type=\"video/mp4\">\n",
        "</video>\n",
        "\"\"\" % data_url)"
      ]
    }
  ],
  "metadata": {
    "colab": {
      "collapsed_sections": [],
      "name": "test_recurrent_ppo.ipynb",
      "provenance": []
    },
    "kernelspec": {
      "display_name": "Python 3",
      "language": "python",
      "name": "python3"
    },
    "language_info": {
      "codemirror_mode": {
        "name": "ipython",
        "version": 3
      },
      "file_extension": ".py",
      "mimetype": "text/x-python",
      "name": "python",
      "nbconvert_exporter": "python",
      "pygments_lexer": "ipython3",
      "version": "3.7.0"
    }
  },
  "nbformat": 4,
  "nbformat_minor": 0
}